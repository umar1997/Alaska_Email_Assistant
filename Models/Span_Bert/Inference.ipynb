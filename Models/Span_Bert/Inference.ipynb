{
 "cells": [
  {
   "cell_type": "code",
   "execution_count": 8,
   "id": "0d587497",
   "metadata": {},
   "outputs": [],
   "source": [
    "from transformers import AutoModelForQuestionAnswering, AutoTokenizer\n",
    "from transformers import pipeline\n",
    "\n",
    "import torch"
   ]
  },
  {
   "cell_type": "code",
   "execution_count": 3,
   "id": "7f733c74",
   "metadata": {},
   "outputs": [
    {
     "name": "stdout",
     "output_type": "stream",
     "text": [
      "4.18.0\n"
     ]
    }
   ],
   "source": [
    "import transformers\n",
    "print(transformers.__version__)"
   ]
  },
  {
   "cell_type": "code",
   "execution_count": 4,
   "id": "388d5ad9",
   "metadata": {},
   "outputs": [],
   "source": [
    "tokenizer = AutoTokenizer.from_pretrained(\"SpanBERT/spanbert-large-cased\")\n",
    "model = AutoModelForQuestionAnswering.from_pretrained(\"model_weights\") "
   ]
  },
  {
   "cell_type": "code",
   "execution_count": 14,
   "id": "83965e46",
   "metadata": {},
   "outputs": [],
   "source": [
    "question = \"What are the email addresses?\"\n",
    "# What is the email subject?\n",
    "# What is the email content?\n",
    "# question = \"What is the email subject?\"\n",
    "context = 'Send an email to chelseasmith@gmail.com and brian66@gmail.com with subject products for trading in brazil and body that starts like please review the attached memo to verify that i have identified all of the products that you are interested in trading in brazil i will be in sao paulo on monday september 20 1999 thank you sara'"
   ]
  },
  {
   "cell_type": "code",
   "execution_count": 15,
   "id": "6f289402",
   "metadata": {},
   "outputs": [],
   "source": [
    "inputs = tokenizer.encode_plus(question, context, return_tensors=\"pt\")"
   ]
  },
  {
   "cell_type": "code",
   "execution_count": 16,
   "id": "ba30d0ef",
   "metadata": {},
   "outputs": [],
   "source": [
    "input_ids = inputs[\"input_ids\"].tolist()[0]\n",
    "\n",
    "text_tokens = tokenizer.convert_ids_to_tokens(input_ids)\n",
    "with torch.no_grad():\n",
    "    output = model(**inputs)"
   ]
  },
  {
   "cell_type": "code",
   "execution_count": 17,
   "id": "72d23371",
   "metadata": {},
   "outputs": [],
   "source": [
    "start_logits = output.start_logits[0]\n",
    "end_logits = output.end_logits[0]"
   ]
  },
  {
   "cell_type": "code",
   "execution_count": 18,
   "id": "10b6814a",
   "metadata": {},
   "outputs": [],
   "source": [
    "answer_start = torch.argmax(\n",
    "        start_logits\n",
    "    )  # Get the most likely beginning of answer with the argmax of the score\n",
    "answer_end = torch.argmax(end_logits) + 1  # Get the most likely end of answer with the argmax of the score"
   ]
  },
  {
   "cell_type": "code",
   "execution_count": 19,
   "id": "9b539b0a",
   "metadata": {},
   "outputs": [],
   "source": [
    "answer = tokenizer.convert_tokens_to_string(tokenizer.convert_ids_to_tokens(input_ids[answer_start:answer_end]))"
   ]
  },
  {
   "cell_type": "code",
   "execution_count": 20,
   "id": "85cfff72",
   "metadata": {},
   "outputs": [
    {
     "name": "stdout",
     "output_type": "stream",
     "text": [
      "What are the email addresses?\n",
      "chelseasmith @ gmail. com and brian66 @ gmail. com\n"
     ]
    }
   ],
   "source": [
    "print(question)\n",
    "print(answer)"
   ]
  },
  {
   "cell_type": "code",
   "execution_count": null,
   "id": "57a1cb9e",
   "metadata": {},
   "outputs": [],
   "source": []
  }
 ],
 "metadata": {
  "kernelspec": {
   "display_name": "Python 3 (ipykernel)",
   "language": "python",
   "name": "python3"
  },
  "language_info": {
   "codemirror_mode": {
    "name": "ipython",
    "version": 3
   },
   "file_extension": ".py",
   "mimetype": "text/x-python",
   "name": "python",
   "nbconvert_exporter": "python",
   "pygments_lexer": "ipython3",
   "version": "3.8.12"
  }
 },
 "nbformat": 4,
 "nbformat_minor": 5
}
