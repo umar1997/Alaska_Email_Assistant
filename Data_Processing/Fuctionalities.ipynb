{
 "cells": [
  {
   "cell_type": "code",
   "execution_count": 156,
   "id": "3b392f26",
   "metadata": {},
   "outputs": [
    {
     "name": "stdout",
     "output_type": "stream",
     "text": [
      "['h a m z a s h a r i f nine nine six at the rate gmail dot com', 'a s i f h a n i f one nine nine two at h o t m a i l dot com']\n"
     ]
    },
    {
     "data": {
      "text/plain": [
       "['hamzasharif996@gmail.com', 'asifhanif1992@hotmail.com']"
      ]
     },
     "execution_count": 156,
     "metadata": {},
     "output_type": "execute_result"
    }
   ],
   "source": [
    "def getExtractedEmail(sentence):\n",
    "    charGreaterThan2 = list(filter(lambda x: len(x)>1, sentence.split()))\n",
    "    IncorrectcharGreaterThan2 = list(filter(lambda x: x not in extrakeys, charGreaterThan2))\n",
    "    if len(IncorrectcharGreaterThan2) > 0:\n",
    "        raise Exception(\"Getting Words Instead Of Characters In Email Recipients\")\n",
    "    email_addresses = sentence.split('com')[:-1]\n",
    "    email_addresses = [email.replace('and ', '').strip() + ' com' for email in email_addresses ]\n",
    "    print(email_addresses)\n",
    "    fixedEmails = []\n",
    "    for email in email_addresses:\n",
    "        for k in list(emailDictionary.keys()):\n",
    "            if k in email:\n",
    "                email = email.replace(k, emailDictionary[k])\n",
    "        email = email.replace(' ', '')\n",
    "        fixedEmails.append(email)\n",
    "    return fixedEmails\n",
    "sentence = 'h a m z a s h a r i f nine nine six at the rate gmail dot com and a s i f h a n i f one nine nine two at h o t m a i l dot com'\n",
    "getExtractedEmail(sentence)"
   ]
  },
  {
   "cell_type": "code",
   "execution_count": 130,
   "id": "87433991",
   "metadata": {},
   "outputs": [],
   "source": []
  },
  {
   "cell_type": "code",
   "execution_count": 154,
   "id": "16d8c3e8",
   "metadata": {},
   "outputs": [],
   "source": [
    "emailDictionary = {\n",
    "    'dot': '.',\n",
    "    'underscore': '_',\n",
    "    'hyphen': '-',\n",
    "    'dash': '-',\n",
    "    'full stop': '.',\n",
    "    'at the rate': '@',\n",
    "    'at': '@',\n",
    "    'com': 'com',\n",
    "    'gmail': 'gmail',\n",
    "    'hotmail': 'hotmail',\n",
    "    'yahoo': 'yahoo',\n",
    "    'zero': '0',\n",
    "    'one': '1',\n",
    "    'two' : '2', \n",
    "    'three' : '3',\n",
    "    'four' : '4',\n",
    "    'five' : '5',\n",
    "    'six' : '6',\n",
    "    'seven' : '7',\n",
    "    'eight' : '8',\n",
    "    'nine' : '9',\n",
    "}\n",
    "\n",
    "\n",
    "keys = list(emailDictionary.keys())\n",
    "extrakeys = keys + ['and', 'the', 'rate'] "
   ]
  },
  {
   "cell_type": "code",
   "execution_count": null,
   "id": "da40760f",
   "metadata": {},
   "outputs": [],
   "source": []
  },
  {
   "cell_type": "code",
   "execution_count": null,
   "id": "01236f88",
   "metadata": {},
   "outputs": [],
   "source": []
  }
 ],
 "metadata": {
  "kernelspec": {
   "display_name": "Python 3 (ipykernel)",
   "language": "python",
   "name": "python3"
  },
  "language_info": {
   "codemirror_mode": {
    "name": "ipython",
    "version": 3
   },
   "file_extension": ".py",
   "mimetype": "text/x-python",
   "name": "python",
   "nbconvert_exporter": "python",
   "pygments_lexer": "ipython3",
   "version": "3.8.10"
  }
 },
 "nbformat": 4,
 "nbformat_minor": 5
}
